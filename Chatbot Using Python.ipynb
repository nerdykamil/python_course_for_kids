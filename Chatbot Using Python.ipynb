{
 "cells": [
  {
   "cell_type": "markdown",
   "id": "f1e0acd1",
   "metadata": {},
   "source": [
    "# Project: ChatBot using Python"
   ]
  },
  {
   "cell_type": "markdown",
   "id": "c016d974",
   "metadata": {},
   "source": [
    "In this lesson you will get a basic understanding of how chatbots work. The chatbots you interact with everyday are pretty smart because they use additional algorithms and libraries. We will develop a basic chatbot for understanding purposes! "
   ]
  },
  {
   "cell_type": "markdown",
   "id": "94cf0ab9",
   "metadata": {},
   "source": [
    "Let's Start,\n",
    "\n",
    "In Python, we can create a list that contains multiple items. Create a list called greetings and another called goodbyes. Inside a set of square brackets ( [ ] ), give your chatbot some greetings and goodbyes."
   ]
  },
  {
   "cell_type": "code",
   "execution_count": 2,
   "id": "8f17bff7",
   "metadata": {},
   "outputs": [],
   "source": [
    "greetings = [\"Hello\",\"What's up?!\", \"Howdy!\", \"Greetings!\", \"Assalamualaikum\" ]\n",
    "goodbyes = [\"Bye!\",\"Goodbye!\",\"See you later!\", \"See you soon!\", \"Allah Hafiz\"]"
   ]
  },
  {
   "cell_type": "markdown",
   "id": "ddf020a7",
   "metadata": {},
   "source": [
    "Let's create a couple more lists of keywords and responses that your chatbot will know. Name these lists keywords and responses. Make sure the keywords and responses are in the same order. For example, if the user enters something containing the keyword \"book\", then the chatbot will respond with \"I know about a lot of books.\" The keyword \"book\" and the response \"I know about a lot of books\" are both in the third position of both lists."
   ]
  },
  {
   "cell_type": "code",
   "execution_count": 3,
   "id": "0d6dce4a",
   "metadata": {},
   "outputs": [],
   "source": [
    "keywords = [\"car\", \"pet\", \"book\", \"game\",\"hello\"]\n",
    "responses = [\"Cars are a great way of moving from one place to another\",\n",
    "             \"Pets can be a great company\",\n",
    "             \"I know about a lot of books\",\n",
    "             \"I like to play the video game\",\n",
    "            \"Greetings, how are you?\"]"
   ]
  },
  {
   "cell_type": "markdown",
   "id": "2238ac62",
   "metadata": {},
   "source": [
    "We can choose a random greeting and goodbye each time the user interacts with the chatbot. First, we need to import the random module to include this capability in our program. Import random module and then Let's choose a random greeting from the greetings list. After the lists you created, add:"
   ]
  },
  {
   "cell_type": "code",
   "execution_count": 4,
   "id": "a955f778",
   "metadata": {},
   "outputs": [
    {
     "name": "stdout",
     "output_type": "stream",
     "text": [
      "Hello\n"
     ]
    }
   ],
   "source": [
    "import random\n",
    "\n",
    "print(random.choice(greetings))\n"
   ]
  },
  {
   "cell_type": "markdown",
   "id": "9421e517",
   "metadata": {},
   "source": [
    "Let's also prompt the user to enter something. We can use the input function to display a prompt to the user and get their response. We also need to store their response in a variable so we can use it in our program.\n",
    "\n",
    "The user = user.lower() converts the user's response to lowercase and stores the lowercase version of their response in the user variable."
   ]
  },
  {
   "cell_type": "code",
   "execution_count": 5,
   "id": "15105f90",
   "metadata": {},
   "outputs": [
    {
     "name": "stdout",
     "output_type": "stream",
     "text": [
      "Say something (or type bye to quit): hi\n"
     ]
    }
   ],
   "source": [
    "user = input(\"Say something (or type bye to quit): \")\n",
    "user = user.lower()"
   ]
  },
  {
   "cell_type": "markdown",
   "id": "4d994830",
   "metadata": {},
   "source": [
    "We can use a while loop to keep interacting with the user as long as they have not said \"bye\". This while loop will repeat its block of code as long as the user response is not \"bye\"."
   ]
  },
  {
   "cell_type": "code",
   "execution_count": 7,
   "id": "ba2525dc",
   "metadata": {},
   "outputs": [
    {
     "name": "stdout",
     "output_type": "stream",
     "text": [
      "Say something (or type bye to quit): hi\n",
      "Say something (or type bye to quit): hello\n",
      "Say something (or type bye to quit): bye\n"
     ]
    }
   ],
   "source": [
    "while(user != \"bye\"):\n",
    "    for index in range(len(keywords)):\n",
    "        if (keywords[index] in user):\n",
    "            print(\"Bot: \" + responses[index])\n",
    "    user = input(\"Say something (or type bye to quit): \")\n",
    "    user = user.lower()"
   ]
  },
  {
   "cell_type": "markdown",
   "id": "725d2d46",
   "metadata": {},
   "source": [
    "Inside the while loop, we need to check if the user's response contains a keyword the chatbot already knows. We'll use a for loop to loop from the beginning to the end of the keywords list. If the keyword at the current position in the list is in the user's response, we'll print the corresponding response from the responses list."
   ]
  },
  {
   "cell_type": "code",
   "execution_count": 11,
   "id": "7fe1afce",
   "metadata": {},
   "outputs": [
    {
     "name": "stdout",
     "output_type": "stream",
     "text": [
      "Say something (or type bye to quit): hi\n",
      "I'm not sure how to respond. What keyword do you want to add?hi\n",
      "How should I respond to hi?Greeting. How are you?\n",
      "Say something (or type bye to quit): bye\n"
     ]
    }
   ],
   "source": [
    "user = input(\"Say something (or type bye to quit): \")\n",
    "user = user.lower()\n",
    "while(user != \"bye\"):\n",
    "    keyword_found = False\n",
    "    for index in range(len(keywords)):\n",
    "        if (keywords[index] in user):\n",
    "            print(\"Bot: \" + responses[index])\n",
    "            keyword_found = True\n",
    "    \n",
    "    if (keyword_found == False):\n",
    "        new_keyword = input(\"I'm not sure how to respond. What keyword do you want to add?\")\n",
    "        keywords.append(new_keyword)\n",
    "        new_response = input(\"How should I respond to \"+ new_keyword + \"?\")\n",
    "        responses.append(new_response)\n",
    "        \n",
    "    user = input(\"Say something (or type bye to quit): \")\n",
    "    user = user.lower()\n",
    "        \n"
   ]
  },
  {
   "cell_type": "markdown",
   "id": "f09fa3f6",
   "metadata": {},
   "source": [
    "If the user's response does not contain a keyword the chatbot already knows, we need to teach it how to respond. Let's start by updating our while and for loops with a keyword_found variable. At the beginning of the while loop, we'll set it to false to indicate that it has not been found. In the if statement inside the for loop, we'll set the keyword_found variable to true.\n",
    "\n",
    "We'll add an if statement inside the while loop but outside of the for loop to check if keyword_found is false. If the user's response did not contain a keyword our chatbot already knew, we'll ask the user what keyword we should learn and how we should respond. We'll then add the new keyword and response to the keywords and responses lists using the append() function.\n",
    "\n",
    "If the user says \"bye\", the while loop will end. Outside of the while loop, let's choose a random goodbye to display to the user when they say \"bye\".\n"
   ]
  },
  {
   "cell_type": "markdown",
   "id": "285a7fd5",
   "metadata": {},
   "source": [
    "## Lets put all blocks in one cell to run the program together"
   ]
  },
  {
   "cell_type": "code",
   "execution_count": null,
   "id": "7c04263d",
   "metadata": {},
   "outputs": [],
   "source": [
    "greetings = [\"Hello\",\"What's up?!\", \"Howdy!\", \"Greetings!\", \"Assalamualaikum\" ]\n",
    "goodbyes = [\"Bye!\",\"Goodbye!\",\"See you later!\", \"See you soon!\", \"Allah Hafiz\"]\n",
    "\n",
    "keywords = [\"car\", \"pet\", \"book\", \"game\",\"hello\"]\n",
    "responses = [\"Cars are a great way of moving from one place to another\",\n",
    "             \"Pets can be a great company\",\n",
    "             \"I know about a lot of books\",\n",
    "             \"I like to play the video game\",\n",
    "            \"Greetings, how are you?\"]\n",
    "\n",
    "import random\n",
    "\n",
    "print(random.choice(greetings))\n",
    "\n",
    "user = input(\"Say something (or type bye to quit): \")\n",
    "user = user.lower()\n",
    "while(user != \"bye\"):\n",
    "    keyword_found = False\n",
    "    for index in range(len(keywords)):\n",
    "        if (keywords[index] in user):\n",
    "            print(\"Bot: \" + responses[index])\n",
    "            keyword_found = True\n",
    "    \n",
    "    if (keyword_found == False):\n",
    "        new_keyword = input(\"I'm not sure how to respond. What keyword do you want to add?\")\n",
    "        keywords.append(new_keyword)\n",
    "        new_response = input(\"How should I respond to \"+ new_keyword + \"?\")\n",
    "        responses.append(new_response)\n",
    "        \n",
    "    user = input(\"Say something (or type bye to quit): \")\n",
    "    user = user.lower()\n",
    "        \n",
    "    \n",
    "print(random.choice(goodbyes))\n"
   ]
  }
 ],
 "metadata": {
  "kernelspec": {
   "display_name": "python_course",
   "language": "python",
   "name": "python_course"
  },
  "language_info": {
   "codemirror_mode": {
    "name": "ipython",
    "version": 3
   },
   "file_extension": ".py",
   "mimetype": "text/x-python",
   "name": "python",
   "nbconvert_exporter": "python",
   "pygments_lexer": "ipython3",
   "version": "3.11.4"
  }
 },
 "nbformat": 4,
 "nbformat_minor": 5
}
