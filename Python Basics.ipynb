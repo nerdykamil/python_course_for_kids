{
 "cells": [
  {
   "cell_type": "markdown",
   "id": "ad091c71",
   "metadata": {},
   "source": [
    "# Python Course\n",
    "\n",
    "Python is a great general-purpose programming language on its own, but with the help of a few popular libraries (numpy, scipy, matplotlib) it becomes a powerful environment for scientific computing.\n",
    "\n",
    "Python is a high-level, dynamically typed programming language. Python code is often said to be almost like pseudocode, since it allows you to express very powerful ideas in very few lines of code while being very readable."
   ]
  },
  {
   "cell_type": "markdown",
   "id": "f582293f",
   "metadata": {},
   "source": [
    "# Notebook 1"
   ]
  },
  {
   "cell_type": "markdown",
   "id": "e35dbc49",
   "metadata": {},
   "source": [
    "## Print Function in Python\n",
    "\n",
    "print function is used when we want to display something on the screen"
   ]
  },
  {
   "cell_type": "code",
   "execution_count": 2,
   "id": "caa70f26",
   "metadata": {},
   "outputs": [
    {
     "name": "stdout",
     "output_type": "stream",
     "text": [
      "Yusra\n"
     ]
    }
   ],
   "source": [
    "print(\"Yusra\")"
   ]
  },
  {
   "cell_type": "code",
   "execution_count": null,
   "id": "61b6559f",
   "metadata": {},
   "outputs": [],
   "source": [
    "print(\"yahya\")"
   ]
  },
  {
   "cell_type": "markdown",
   "id": "a6aea2e8",
   "metadata": {},
   "source": [
    "## Variables and Data Type in Python\n",
    "\n",
    "A variable is a container of a value. \n",
    "\n",
    "A data type is a different kind of value type that are possible to use in python such as number (int), float (decimal number), string (series of characters), boolean (True or False), dictionaries (key value pairs), lists, arrays \n",
    "\n",
    "In python a variable behaves like the value that it contains."
   ]
  },
  {
   "cell_type": "markdown",
   "id": "45dfa3ab",
   "metadata": {},
   "source": [
    "### Strings"
   ]
  },
  {
   "cell_type": "code",
   "execution_count": 6,
   "id": "9546001d",
   "metadata": {},
   "outputs": [
    {
     "name": "stdout",
     "output_type": "stream",
     "text": [
      "yusra\n"
     ]
    }
   ],
   "source": [
    "name = \"yusra\"\n",
    "print(name)"
   ]
  },
  {
   "cell_type": "code",
   "execution_count": 9,
   "id": "4b171433",
   "metadata": {},
   "outputs": [],
   "source": [
    "house = 5"
   ]
  },
  {
   "cell_type": "code",
   "execution_count": 19,
   "id": "be2ed673",
   "metadata": {},
   "outputs": [
    {
     "name": "stdout",
     "output_type": "stream",
     "text": [
      "My name is yusra\n"
     ]
    }
   ],
   "source": [
    "print(\"My name is \"+name)"
   ]
  },
  {
   "cell_type": "code",
   "execution_count": 10,
   "id": "6a60a265",
   "metadata": {},
   "outputs": [
    {
     "name": "stdout",
     "output_type": "stream",
     "text": [
      "<class 'str'>\n"
     ]
    }
   ],
   "source": [
    "print(type(name))"
   ]
  },
  {
   "cell_type": "markdown",
   "id": "fd754883",
   "metadata": {},
   "source": [
    "### Integer"
   ]
  },
  {
   "cell_type": "code",
   "execution_count": 11,
   "id": "b95b66c2",
   "metadata": {},
   "outputs": [],
   "source": [
    "age = 28"
   ]
  },
  {
   "cell_type": "code",
   "execution_count": 14,
   "id": "8c934094",
   "metadata": {},
   "outputs": [
    {
     "name": "stdout",
     "output_type": "stream",
     "text": [
      "30\n"
     ]
    }
   ],
   "source": [
    "age = age + 1  ## OR age+=1\n",
    "print(age)"
   ]
  },
  {
   "cell_type": "code",
   "execution_count": 17,
   "id": "5d07edf2",
   "metadata": {},
   "outputs": [
    {
     "data": {
      "text/plain": [
       "int"
      ]
     },
     "execution_count": 17,
     "metadata": {},
     "output_type": "execute_result"
    }
   ],
   "source": [
    "type(age)"
   ]
  },
  {
   "cell_type": "markdown",
   "id": "25f62529",
   "metadata": {},
   "source": [
    "#### what would happen if I add a string and integer variable?"
   ]
  },
  {
   "cell_type": "code",
   "execution_count": 21,
   "id": "63c93eb1",
   "metadata": {},
   "outputs": [
    {
     "name": "stdout",
     "output_type": "stream",
     "text": [
      "My age is 30\n"
     ]
    }
   ],
   "source": [
    "#print(\"My age is \" + age)\n",
    "\n",
    "age = str(age)\n",
    "\n",
    "print(\"My age is \" + age)"
   ]
  },
  {
   "cell_type": "markdown",
   "id": "dcad0e90",
   "metadata": {},
   "source": [
    "### Float "
   ]
  },
  {
   "cell_type": "code",
   "execution_count": 23,
   "id": "87d33d12",
   "metadata": {},
   "outputs": [],
   "source": [
    "height = 152.5"
   ]
  },
  {
   "cell_type": "code",
   "execution_count": 24,
   "id": "beecd229",
   "metadata": {},
   "outputs": [
    {
     "ename": "TypeError",
     "evalue": "can only concatenate str (not \"float\") to str",
     "output_type": "error",
     "traceback": [
      "\u001b[1;31m---------------------------------------------------------------------------\u001b[0m",
      "\u001b[1;31mTypeError\u001b[0m                                 Traceback (most recent call last)",
      "Cell \u001b[1;32mIn[24], line 1\u001b[0m\n\u001b[1;32m----> 1\u001b[0m \u001b[38;5;28mprint\u001b[39m(\u001b[38;5;124;43m\"\u001b[39;49m\u001b[38;5;124;43mMy height is =\u001b[39;49m\u001b[38;5;124;43m\"\u001b[39;49m\u001b[43m \u001b[49m\u001b[38;5;241;43m+\u001b[39;49m\u001b[43m \u001b[49m\u001b[43mheight\u001b[49m)\n",
      "\u001b[1;31mTypeError\u001b[0m: can only concatenate str (not \"float\") to str"
     ]
    }
   ],
   "source": [
    "print(\"My height is =\" + height)"
   ]
  },
  {
   "cell_type": "code",
   "execution_count": 25,
   "id": "82a27739",
   "metadata": {},
   "outputs": [
    {
     "name": "stdout",
     "output_type": "stream",
     "text": [
      "My height is 152.5 cm\n"
     ]
    }
   ],
   "source": [
    "height = str(height)\n",
    "print(\"My height is \"+ height +\" cm\")"
   ]
  },
  {
   "cell_type": "markdown",
   "id": "677e1159",
   "metadata": {},
   "source": [
    "### Boolean"
   ]
  },
  {
   "cell_type": "code",
   "execution_count": 29,
   "id": "7b1b6f1e",
   "metadata": {},
   "outputs": [
    {
     "name": "stdout",
     "output_type": "stream",
     "text": [
      "Is Yusra a human? True\n"
     ]
    }
   ],
   "source": [
    "human = True\n",
    "\n",
    "muslim = True\n",
    "\n",
    "above_30 = False\n",
    "\n",
    "print(\"Is Yusra a human? \"+str(human))"
   ]
  },
  {
   "cell_type": "code",
   "execution_count": 30,
   "id": "259abf47",
   "metadata": {},
   "outputs": [
    {
     "name": "stdout",
     "output_type": "stream",
     "text": [
      "False\n"
     ]
    }
   ],
   "source": [
    "print(muslim and above_30)"
   ]
  },
  {
   "cell_type": "code",
   "execution_count": null,
   "id": "c7960d7a",
   "metadata": {},
   "outputs": [],
   "source": [
    "print(muslim and above_30) # Logical AND;\n",
    "print(muslim or above_30)  # Logical OR;\n",
    "print(not above_30)   # Logical NOT;"
   ]
  },
  {
   "cell_type": "markdown",
   "id": "b0c7a9b8",
   "metadata": {},
   "source": [
    "### Lists"
   ]
  },
  {
   "cell_type": "markdown",
   "id": "4616589d",
   "metadata": {},
   "source": [
    "### Dictionaries"
   ]
  },
  {
   "cell_type": "markdown",
   "id": "f7f3547b",
   "metadata": {},
   "source": [
    "### Sets"
   ]
  },
  {
   "cell_type": "markdown",
   "id": "970730bc",
   "metadata": {},
   "source": [
    "### Multiple assignments\n",
    "\n",
    "Assigning values to multiple variables at the same time with one line of code"
   ]
  },
  {
   "cell_type": "code",
   "execution_count": 32,
   "id": "b30fd666",
   "metadata": {},
   "outputs": [],
   "source": [
    "name_1 = \"Yusra\"\n",
    "name_2 = \"Yusra\"\n",
    "name_3 = \"Yusra\""
   ]
  },
  {
   "cell_type": "code",
   "execution_count": 33,
   "id": "f7284af9",
   "metadata": {},
   "outputs": [],
   "source": [
    "name_1 = name_2 = name_3 = \"Yusra\""
   ]
  },
  {
   "cell_type": "code",
   "execution_count": 34,
   "id": "23d2dd55",
   "metadata": {},
   "outputs": [
    {
     "name": "stdout",
     "output_type": "stream",
     "text": [
      "Yusra\n"
     ]
    }
   ],
   "source": [
    "print(name_3)"
   ]
  },
  {
   "cell_type": "code",
   "execution_count": null,
   "id": "969e0213",
   "metadata": {},
   "outputs": [],
   "source": [
    "taxi_1 = taxi_2 = taxi_3 = \"Camry\""
   ]
  },
  {
   "cell_type": "code",
   "execution_count": null,
   "id": "32defec4",
   "metadata": {},
   "outputs": [],
   "source": [
    "print(taxi_1,taxi_2,taxi_3)"
   ]
  },
  {
   "cell_type": "code",
   "execution_count": 35,
   "id": "d7652b0d",
   "metadata": {},
   "outputs": [],
   "source": [
    "car, car_type, off_road = \"Bugatti Chiron\" , \"Sedan\", False"
   ]
  },
  {
   "cell_type": "code",
   "execution_count": null,
   "id": "6205ba64",
   "metadata": {},
   "outputs": [],
   "source": [
    "print(car,car_type,off_road)"
   ]
  },
  {
   "cell_type": "markdown",
   "id": "e8bd1400",
   "metadata": {},
   "source": [
    "### String Methods"
   ]
  },
  {
   "cell_type": "code",
   "execution_count": 36,
   "id": "e3042eb0",
   "metadata": {},
   "outputs": [],
   "source": [
    "name = \"silly miley\""
   ]
  },
  {
   "cell_type": "code",
   "execution_count": 37,
   "id": "6dbcbbcb",
   "metadata": {},
   "outputs": [
    {
     "data": {
      "text/plain": [
       "11"
      ]
     },
     "execution_count": 37,
     "metadata": {},
     "output_type": "execute_result"
    }
   ],
   "source": [
    "len(name)"
   ]
  },
  {
   "cell_type": "code",
   "execution_count": 39,
   "id": "5afa1a37",
   "metadata": {},
   "outputs": [
    {
     "name": "stdout",
     "output_type": "stream",
     "text": [
      "2\n"
     ]
    }
   ],
   "source": [
    "print(name.find(\"l\"))"
   ]
  },
  {
   "cell_type": "code",
   "execution_count": null,
   "id": "73881f3c",
   "metadata": {},
   "outputs": [],
   "source": [
    "print(name.find(\"Y\"))\n",
    "print(name.find(\"s\"))\n",
    "print(name.find(\"S\"))"
   ]
  },
  {
   "cell_type": "code",
   "execution_count": null,
   "id": "8ff19c51",
   "metadata": {},
   "outputs": [],
   "source": [
    "name_2 = \"nooreh talha\"\n",
    "print(name_2.capitalize())"
   ]
  },
  {
   "cell_type": "code",
   "execution_count": null,
   "id": "ea5e64c5",
   "metadata": {},
   "outputs": [],
   "source": [
    "print(name_2.upper())"
   ]
  },
  {
   "cell_type": "code",
   "execution_count": null,
   "id": "db5bfa62",
   "metadata": {},
   "outputs": [],
   "source": [
    "print(name.lower())"
   ]
  },
  {
   "cell_type": "code",
   "execution_count": null,
   "id": "ff4d171f",
   "metadata": {},
   "outputs": [],
   "source": [
    "print(name.isdigit())\n",
    "code = \"1234\"\n",
    "print(code.isdigit())"
   ]
  },
  {
   "cell_type": "code",
   "execution_count": null,
   "id": "930d28f3",
   "metadata": {},
   "outputs": [],
   "source": [
    "print(name.isalpha())"
   ]
  },
  {
   "cell_type": "code",
   "execution_count": null,
   "id": "4a886692",
   "metadata": {},
   "outputs": [],
   "source": [
    "print(name.count(\"h\"))"
   ]
  },
  {
   "cell_type": "code",
   "execution_count": null,
   "id": "839f86fd",
   "metadata": {},
   "outputs": [],
   "source": [
    "print(name.replace(\"Yusra\",\"Y\"))"
   ]
  },
  {
   "cell_type": "code",
   "execution_count": null,
   "id": "6824d25c",
   "metadata": {},
   "outputs": [],
   "source": [
    "print(name.rjust(20))      # Right-justify a string, padding with spaces; prints \"  hello\""
   ]
  },
  {
   "cell_type": "code",
   "execution_count": null,
   "id": "e3f601e9",
   "metadata": {},
   "outputs": [],
   "source": [
    "print(name.center(20))     # Center a string, padding with spaces; prints \" hello \""
   ]
  },
  {
   "cell_type": "code",
   "execution_count": null,
   "id": "6bd171a9",
   "metadata": {},
   "outputs": [],
   "source": [
    "print(name*3)"
   ]
  },
  {
   "cell_type": "markdown",
   "id": "2c846af8",
   "metadata": {},
   "source": [
    "### Typecasting \n",
    "Converting a data type of a variable from one type to another"
   ]
  },
  {
   "cell_type": "code",
   "execution_count": null,
   "id": "79e4e009",
   "metadata": {},
   "outputs": [],
   "source": [
    "x = 1    #int\n",
    "y = 2.0  #float\n",
    "z = \"3\"  #str\n",
    "\n",
    "print(x)\n",
    "print(y)\n",
    "print(z)\n"
   ]
  },
  {
   "cell_type": "code",
   "execution_count": null,
   "id": "a5f4fec7",
   "metadata": {},
   "outputs": [],
   "source": [
    "y = int(y)\n",
    "\n",
    "print(y)"
   ]
  },
  {
   "cell_type": "code",
   "execution_count": null,
   "id": "49e33b5d",
   "metadata": {},
   "outputs": [],
   "source": [
    "print(z*3)"
   ]
  },
  {
   "cell_type": "code",
   "execution_count": null,
   "id": "26e37a76",
   "metadata": {},
   "outputs": [],
   "source": [
    "z = int(z)\n",
    "print(z*3)"
   ]
  },
  {
   "cell_type": "code",
   "execution_count": null,
   "id": "753a0967",
   "metadata": {},
   "outputs": [],
   "source": [
    "x = float(x)\n",
    "y = float(y)\n",
    "z = float(z)\n",
    "\n",
    "print(x+y+z)"
   ]
  },
  {
   "cell_type": "code",
   "execution_count": null,
   "id": "3c7586de",
   "metadata": {},
   "outputs": [],
   "source": [
    "#print(\"x is \" + x)\n",
    "\n",
    "print(\"x is \" + str(x))"
   ]
  },
  {
   "cell_type": "markdown",
   "id": "9953d702",
   "metadata": {},
   "source": [
    "## Mathematical Operations"
   ]
  },
  {
   "cell_type": "code",
   "execution_count": null,
   "id": "45849149",
   "metadata": {},
   "outputs": [],
   "source": [
    "x = 3\n",
    "\n",
    "print(x)\n",
    "print(type(x))\n",
    "print(x + 1)   # Addition;\n",
    "print(x - 1)   # Subtraction;\n",
    "print(x * 2)   # Multiplication;\n",
    "print(x ** 2)  # Exponentiation;"
   ]
  },
  {
   "cell_type": "code",
   "execution_count": null,
   "id": "f3c9d274",
   "metadata": {},
   "outputs": [],
   "source": [
    "x =x + 1\n",
    "print(x)  # Prints \"4\"\n",
    "x = x * 2\n",
    "print(x)  # Prints \"8\""
   ]
  },
  {
   "cell_type": "code",
   "execution_count": null,
   "id": "cc0be90e",
   "metadata": {},
   "outputs": [],
   "source": [
    "y = 2.5\n",
    "print(type(y)) # Prints \"<type 'float'>\"\n",
    "print(y, y + 1, y * 2, y ** 2) # Prints \"2.5 3.5 5.0 6.25\""
   ]
  },
  {
   "cell_type": "code",
   "execution_count": null,
   "id": "29e0aea7",
   "metadata": {},
   "outputs": [],
   "source": [
    "import math"
   ]
  },
  {
   "cell_type": "code",
   "execution_count": null,
   "id": "27a72bdd",
   "metadata": {},
   "outputs": [],
   "source": [
    "pi = 3.14\n",
    "\n",
    "print(round(3.14))"
   ]
  },
  {
   "cell_type": "code",
   "execution_count": null,
   "id": "4a79099e",
   "metadata": {},
   "outputs": [],
   "source": [
    "print(math.ceil(pi))"
   ]
  },
  {
   "cell_type": "code",
   "execution_count": null,
   "id": "a03a803b",
   "metadata": {},
   "outputs": [],
   "source": [
    "print(math.floor(pi))"
   ]
  },
  {
   "cell_type": "code",
   "execution_count": null,
   "id": "354ffbd0",
   "metadata": {},
   "outputs": [],
   "source": [
    "height = -152\n",
    "print(abs(height))"
   ]
  },
  {
   "cell_type": "code",
   "execution_count": null,
   "id": "350aa569",
   "metadata": {},
   "outputs": [],
   "source": [
    "print(pow(pi,2))"
   ]
  },
  {
   "cell_type": "code",
   "execution_count": null,
   "id": "065a5bb2",
   "metadata": {},
   "outputs": [],
   "source": [
    "print(math.sqrt(16))"
   ]
  },
  {
   "cell_type": "code",
   "execution_count": null,
   "id": "b913304e",
   "metadata": {},
   "outputs": [],
   "source": [
    "a, b, c = 1,2,3\n",
    "\n",
    "print(max(a,b,c))"
   ]
  },
  {
   "cell_type": "code",
   "execution_count": null,
   "id": "3314ead7",
   "metadata": {},
   "outputs": [],
   "source": [
    "print(min(a,b,c))"
   ]
  },
  {
   "cell_type": "markdown",
   "id": "a870b159",
   "metadata": {},
   "source": [
    "## Slicing\n",
    "\n",
    "We can slice in python using indexing and using the slicing function"
   ]
  },
  {
   "cell_type": "code",
   "execution_count": null,
   "id": "019a96b8",
   "metadata": {},
   "outputs": [],
   "source": [
    "full_name = \"Yusra Shahid\""
   ]
  },
  {
   "cell_type": "code",
   "execution_count": null,
   "id": "880f4f46",
   "metadata": {},
   "outputs": [],
   "source": [
    "first_name = full_name[0]\n",
    "print(first_name)"
   ]
  },
  {
   "cell_type": "code",
   "execution_count": null,
   "id": "c615bd1c",
   "metadata": {},
   "outputs": [],
   "source": [
    "last_name = full_name[6:13]  ##full_name[6:]\n",
    "print(last_name)"
   ]
  },
  {
   "cell_type": "code",
   "execution_count": null,
   "id": "79ab3c85",
   "metadata": {
    "scrolled": true
   },
   "outputs": [],
   "source": [
    "funky_name = full_name[0:13:2]  ##full_name[::2]\n",
    "print(funky_name)"
   ]
  },
  {
   "cell_type": "code",
   "execution_count": null,
   "id": "1bf2c63b",
   "metadata": {},
   "outputs": [],
   "source": [
    "reversed_name = full_name[::-1]\n",
    "print(reversed_name)"
   ]
  },
  {
   "cell_type": "code",
   "execution_count": null,
   "id": "dc37eaff",
   "metadata": {},
   "outputs": [],
   "source": [
    "website = \"www.google.com\"\n",
    "\n",
    "index_1 = slice(4,-4)\n",
    "print(website[index_1])"
   ]
  },
  {
   "cell_type": "code",
   "execution_count": null,
   "id": "74702473",
   "metadata": {},
   "outputs": [],
   "source": [
    "website2 = \"www.youtube.com\"\n",
    "\n",
    "print(website2[index_1])"
   ]
  },
  {
   "cell_type": "markdown",
   "id": "e8bdc174",
   "metadata": {},
   "source": [
    "### User Input"
   ]
  },
  {
   "cell_type": "code",
   "execution_count": null,
   "id": "f281c8d3",
   "metadata": {},
   "outputs": [],
   "source": [
    "input(\"What is your name?\")"
   ]
  },
  {
   "cell_type": "code",
   "execution_count": null,
   "id": "45240330",
   "metadata": {},
   "outputs": [],
   "source": [
    "name = input(\"What is your full name?\")\n",
    "print(\"Hello \"+name)"
   ]
  },
  {
   "cell_type": "code",
   "execution_count": null,
   "id": "8c80f0f2",
   "metadata": {},
   "outputs": [],
   "source": [
    "age = input(\"How old are you?\")\n",
    "age = age + 1"
   ]
  },
  {
   "cell_type": "code",
   "execution_count": null,
   "id": "1eef3769",
   "metadata": {},
   "outputs": [],
   "source": [
    "age = int(input(\"What is your age?\"))\n",
    "age  = age+1\n",
    "\n",
    "print(\"You are \"+ str(age)+\" old\")"
   ]
  },
  {
   "cell_type": "markdown",
   "id": "13105d74",
   "metadata": {},
   "source": [
    "## Conditional Statements\n",
    "\n",
    "if statement: a block of code that will execute only if it's condition is true"
   ]
  },
  {
   "cell_type": "code",
   "execution_count": null,
   "id": "a651e5cd",
   "metadata": {},
   "outputs": [],
   "source": [
    "age = int(input(\"What is your age?\"))\n",
    "\n",
    "if age >= 18:\n",
    "    print(\"You are an adult\")\n",
    "else:\n",
    "    print(\"You are a child\")"
   ]
  },
  {
   "cell_type": "code",
   "execution_count": null,
   "id": "f593537e",
   "metadata": {},
   "outputs": [],
   "source": [
    "age = int(input(\"What is your age?\"))\n",
    "\n",
    "if age >= 18:\n",
    "    print(\"You are an adult\")\n",
    "elif age < 0:\n",
    "    print(\"You are not born yet\")\n",
    "else:\n",
    "    print(\"You are a child\")"
   ]
  },
  {
   "cell_type": "code",
   "execution_count": null,
   "id": "9b687e3e",
   "metadata": {},
   "outputs": [],
   "source": [
    "age = int(input(\"What is your age?\"))\n",
    "\n",
    "if age == 100:\n",
    "    print(\"You are a century old\")\n",
    "elif age >= 18:\n",
    "    print(\"You are an adult\")\n",
    "elif age < 0:\n",
    "    print(\"You are not born yet\")\n",
    "else:\n",
    "    print(\"You are a child\")"
   ]
  },
  {
   "cell_type": "markdown",
   "id": "8f3f507b",
   "metadata": {},
   "source": [
    "### Logical Operators\n",
    "\n",
    "and, or, not - used to check status of two conditional statements"
   ]
  },
  {
   "cell_type": "code",
   "execution_count": null,
   "id": "d438a908",
   "metadata": {},
   "outputs": [],
   "source": [
    "temperature = 40\n",
    "\n",
    "if temperature >=10 and temperature <=30:\n",
    "    print(\"The weather is good today\")\n",
    "    print(\"go outside\")\n",
    "elif temperature <10 or temperature >30:\n",
    "    print(\"The weather is bad today\")\n",
    "    print(\"stay indoors\")"
   ]
  },
  {
   "cell_type": "code",
   "execution_count": null,
   "id": "84585d4c",
   "metadata": {},
   "outputs": [],
   "source": [
    "temperature = 100 \n",
    "if not(temperature >= 100):\n",
    "    print(\"the water isn't boiling yet\")\n",
    "else:\n",
    "    print(\"The water is boiling\")"
   ]
  },
  {
   "cell_type": "markdown",
   "id": "13b622c0",
   "metadata": {},
   "source": [
    "### Loops"
   ]
  },
  {
   "cell_type": "markdown",
   "id": "2836538f",
   "metadata": {},
   "source": [
    "#### While loops\n",
    "\n",
    "A block of code that will execute till the condition is True"
   ]
  },
  {
   "cell_type": "code",
   "execution_count": null,
   "id": "d379a050",
   "metadata": {},
   "outputs": [],
   "source": [
    "while(True):    ## OR while 1=1\n",
    "    print(\"I am stuck in a loop\")"
   ]
  },
  {
   "cell_type": "code",
   "execution_count": null,
   "id": "8fa0f4b3",
   "metadata": {},
   "outputs": [],
   "source": [
    "char = input(\"pick a character? \")\n",
    "while (char!=\"q\"):\n",
    "    char = input(\"pick a character? \")"
   ]
  },
  {
   "cell_type": "markdown",
   "id": "e35bbfea",
   "metadata": {},
   "source": [
    "### For loop\n",
    "Loop that runs countable times"
   ]
  },
  {
   "cell_type": "code",
   "execution_count": null,
   "id": "a46751b0",
   "metadata": {},
   "outputs": [],
   "source": [
    "for i in range(10):\n",
    "    print(i)"
   ]
  },
  {
   "cell_type": "code",
   "execution_count": null,
   "id": "0d04b634",
   "metadata": {},
   "outputs": [],
   "source": [
    "for i in range(10,20):\n",
    "    print(\"*\")"
   ]
  },
  {
   "cell_type": "code",
   "execution_count": null,
   "id": "480f07c9",
   "metadata": {},
   "outputs": [],
   "source": [
    "import time\n",
    "for i in range(10,0,-1):\n",
    "    print(i)\n",
    "    time.sleep(1)\n",
    "print(\"Happy New Year\")"
   ]
  },
  {
   "cell_type": "markdown",
   "id": "43a2cf16",
   "metadata": {},
   "source": [
    "### Nested Loops\n",
    "\n",
    "in each iteration of the outer loop; the inner loop will finish all it's iterations "
   ]
  },
  {
   "cell_type": "code",
   "execution_count": null,
   "id": "29a69b5e",
   "metadata": {},
   "outputs": [],
   "source": [
    "rows = int(input(\"How many rows do you want? \"))\n",
    "columns = int(input(\"How many columns do you want? \"))\n",
    "symbol = input(\"Enter a symbol for pattern? \")\n",
    "\n",
    "for i in range(rows):\n",
    "    for j in range(columns):\n",
    "        print(symbol,end=\"\")\n",
    "    print()"
   ]
  },
  {
   "cell_type": "code",
   "execution_count": null,
   "id": "e8559648",
   "metadata": {},
   "outputs": [],
   "source": [
    "for i in range(rows):\n",
    "    for j in range(columns):\n",
    "        print(symbol,end=\"\")\n",
    "    print()\n",
    "    columns-=1"
   ]
  },
  {
   "cell_type": "markdown",
   "id": "e6cabbd2",
   "metadata": {},
   "source": [
    "## Loop Control Statements\n",
    "\n",
    "break: used to terminate loop entirely\n",
    "\n",
    "continue: skips to the next iteration of the loop\n",
    "\n",
    "pass: does nothing, acts as a placeholder"
   ]
  },
  {
   "cell_type": "code",
   "execution_count": null,
   "id": "c4202992",
   "metadata": {},
   "outputs": [],
   "source": [
    "while True:\n",
    "    name = input(\"Enter your name \")\n",
    "    if name != \"\":\n",
    "        break"
   ]
  },
  {
   "cell_type": "code",
   "execution_count": null,
   "id": "5b8a06a1",
   "metadata": {},
   "outputs": [],
   "source": [
    "phone_number = \"123-456-789\"\n",
    "\n",
    "for i in phone_number:\n",
    "    if i ==\"-\":\n",
    "        continue\n",
    "    print(i,end=\"\")"
   ]
  },
  {
   "cell_type": "code",
   "execution_count": null,
   "id": "fea157d5",
   "metadata": {},
   "outputs": [],
   "source": [
    "for i in range(1,21):\n",
    "    if i == 13:\n",
    "        pass\n",
    "    else:\n",
    "        print(i)\n"
   ]
  },
  {
   "cell_type": "code",
   "execution_count": null,
   "id": "8cd7e56e",
   "metadata": {},
   "outputs": [],
   "source": []
  }
 ],
 "metadata": {
  "kernelspec": {
   "display_name": "python_course",
   "language": "python",
   "name": "python_course"
  },
  "language_info": {
   "codemirror_mode": {
    "name": "ipython",
    "version": 3
   },
   "file_extension": ".py",
   "mimetype": "text/x-python",
   "name": "python",
   "nbconvert_exporter": "python",
   "pygments_lexer": "ipython3",
   "version": "3.11.4"
  }
 },
 "nbformat": 4,
 "nbformat_minor": 5
}
