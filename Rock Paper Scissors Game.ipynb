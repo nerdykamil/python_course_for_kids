{
 "cells": [
  {
   "cell_type": "markdown",
   "id": "2ec2e868",
   "metadata": {},
   "source": [
    "## Rock Paper Scissors Game"
   ]
  },
  {
   "cell_type": "code",
   "execution_count": 3,
   "id": "ccc72f46",
   "metadata": {},
   "outputs": [],
   "source": [
    "import random"
   ]
  },
  {
   "cell_type": "markdown",
   "id": "66c2fbd1",
   "metadata": {},
   "source": [
    "list down the options that we have for rock, paper, scissors game"
   ]
  },
  {
   "cell_type": "code",
   "execution_count": 4,
   "id": "dc24db74",
   "metadata": {},
   "outputs": [],
   "source": [
    "options = [\"rock\",\"paper\",\"scissors\"]"
   ]
  },
  {
   "cell_type": "markdown",
   "id": "ab3390b3",
   "metadata": {},
   "source": [
    "Now we will take input from user and choose a random for computer using the random module"
   ]
  },
  {
   "cell_type": "code",
   "execution_count": 10,
   "id": "7f56c87c",
   "metadata": {},
   "outputs": [
    {
     "name": "stdout",
     "output_type": "stream",
     "text": [
      "Enter a choice (rock,paper,scissors):rock\n",
      "Player:rock\n",
      "Computer: scissors\n"
     ]
    }
   ],
   "source": [
    "player = input(\"Enter a choice (rock,paper,scissors):\")\n",
    "computer = random.choice(options)\n",
    "print(f\"Player:{player}\")\n",
    "print(f\"Computer: {computer}\")\n"
   ]
  },
  {
   "cell_type": "markdown",
   "id": "b186abb6",
   "metadata": {},
   "source": [
    "Now make the decision logic"
   ]
  },
  {
   "cell_type": "code",
   "execution_count": 11,
   "id": "e722f360",
   "metadata": {},
   "outputs": [
    {
     "name": "stdout",
     "output_type": "stream",
     "text": [
      "You win!\n"
     ]
    }
   ],
   "source": [
    "if player == computer:\n",
    "    print(\"It's a tie\")\n",
    "elif player == \"rock\" and computer == \"scissors\":\n",
    "    print(\"You win!\")\n",
    "elif player == \"paper\" and computer == \"rock\":\n",
    "    print(\"You win!\")\n",
    "elif player == \"scissors\" and computer == \"paper\":\n",
    "    print(\"You win!\")\n",
    "else:\n",
    "    print(\"You Lose!\")\n"
   ]
  },
  {
   "cell_type": "markdown",
   "id": "cbd37b9c",
   "metadata": {},
   "source": [
    "## Join All Blocks Together to run the game"
   ]
  },
  {
   "cell_type": "code",
   "execution_count": 9,
   "id": "00682011",
   "metadata": {},
   "outputs": [
    {
     "name": "stdout",
     "output_type": "stream",
     "text": [
      "Enter a choice (rock,paper,scissors):rock\n",
      "Player:rock\n",
      "Computer: paper\n",
      "You Lose!\n",
      "Do you want to keep playing? enter yes or noyes\n",
      "Enter a choice (rock,paper,scissors):rock\n",
      "Player:rock\n",
      "Computer: rock\n",
      "It's a tie\n",
      "Do you want to keep playing? enter yes or nono\n"
     ]
    }
   ],
   "source": [
    "running = True\n",
    "\n",
    "while running:\n",
    "\n",
    "    player = None\n",
    "    computer = random.choice(options)\n",
    "\n",
    "    while player not in options:\n",
    "        player = input(\"Enter a choice (rock,paper,scissors):\")\n",
    "    \n",
    "    print(f\"Player:{player}\")\n",
    "    print(f\"Computer: {computer}\")\n",
    "\n",
    "    \n",
    "    if player == computer:\n",
    "        print(\"It's a tie\")\n",
    "    elif player == \"rock\" and computer == \"scissors\":\n",
    "        print(\"You win!\")\n",
    "    elif player == \"paper\" and computer == \"rock\":\n",
    "        print(\"You win!\")\n",
    "    elif player == \"scissors\" and computer == \"paper\":\n",
    "        print(\"You win!\")\n",
    "    else:\n",
    "        print(\"You Lose!\")\n",
    "    \n",
    "    game = input(\"Do you want to keep playing? enter yes or no: \")\n",
    "    if game == \"no\":\n",
    "        running= False\n",
    "        print(\"Bye\")\n",
    "\n",
    "    \n"
   ]
  }
 ],
 "metadata": {
  "kernelspec": {
   "display_name": "python_course",
   "language": "python",
   "name": "python_course"
  },
  "language_info": {
   "codemirror_mode": {
    "name": "ipython",
    "version": 3
   },
   "file_extension": ".py",
   "mimetype": "text/x-python",
   "name": "python",
   "nbconvert_exporter": "python",
   "pygments_lexer": "ipython3",
   "version": "3.11.4"
  }
 },
 "nbformat": 4,
 "nbformat_minor": 5
}
